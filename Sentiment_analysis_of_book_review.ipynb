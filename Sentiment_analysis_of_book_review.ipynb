{
  "nbformat": 4,
  "nbformat_minor": 0,
  "metadata": {
    "colab": {
      "provenance": []
    },
    "kernelspec": {
      "name": "python3",
      "display_name": "Python 3"
    },
    "language_info": {
      "name": "python"
    }
  },
  "cells": [
    {
      "cell_type": "code",
      "source": [
        "import pandas as pd\n",
        "import nltk\n",
        "from sklearn.model_selection import train_test_split\n",
        "from sklearn.feature_extraction.text import TfidfVectorizer\n",
        "from sklearn.naive_bayes import MultinomialNB\n",
        "from sklearn.pipeline import Pipeline\n",
        "from sklearn.metrics import classification_report\n",
        "from nltk.corpus import stopwords\n",
        "from nltk.tokenize import word_tokenize\n",
        "from nltk.stem import WordNetLemmatizer\n",
        "from imblearn.over_sampling import RandomOverSampler\n",
        "\n",
        "# Ensure necessary NLTK packages are downloaded\n",
        "nltk.download('punkt')\n",
        "nltk.download('stopwords')\n",
        "nltk.download('wordnet')\n",
        "\n",
        "# Load the dataset\n",
        "data = pd.read_csv('/content/sorna.csv') # Update the path to your dataset\n",
        "\n",
        "# Initialize the lemmatizer\n",
        "lemmatizer = WordNetLemmatizer()\n",
        "\n",
        "# Text preprocessing function\n",
        "def preprocess_text(text):\n",
        "    words = word_tokenize(text.lower())\n",
        "    stop_words = set(stopwords.words('english'))\n",
        "    words = [lemmatizer.lemmatize(word) for word in words if word.isalpha() and word not in stop_words]\n",
        "    return ' '.join(words)\n",
        "\n",
        "# Preprocess the comments\n",
        "data['Processed_Comment'] = data['Comment'].apply(preprocess_text)\n",
        "\n",
        "# Display class distribution before oversampling\n",
        "print(\"Class distribution before oversampling:\")\n",
        "print(data['Sentiment'].value_counts())\n",
        "\n",
        "# Split features and labels\n",
        "X = data['Processed_Comment']\n",
        "y = data['Sentiment']\n",
        "\n",
        "# Oversample to handle class imbalance\n",
        "ros = RandomOverSampler(random_state=42)\n",
        "X_resampled, y_resampled = ros.fit_resample(X.values.reshape(-1, 1), y)\n",
        "\n",
        "# Convert back to series for processing\n",
        "X_resampled = pd.Series([x[0] for x in X_resampled])\n",
        "\n",
        "# Display class distribution after oversampling\n",
        "print(\"\\nClass distribution after oversampling:\")\n",
        "print(y_resampled.value_counts())\n",
        "\n",
        "# Split the dataset into training and testing sets\n",
        "X_train, X_test, y_train, y_test = train_test_split(X_resampled, y_resampled, test_size=0.2, random_state=42)\n",
        "\n",
        "# Build the TF-IDF + Naive Bayes pipeline\n",
        "model_pipeline = Pipeline([\n",
        "    ('tfidf', TfidfVectorizer(ngram_range=(1, 2))),\n",
        "    ('classifier', MultinomialNB())\n",
        "])\n",
        "\n",
        "# Train the model\n",
        "model_pipeline.fit(X_train, y_train)\n",
        "\n",
        "# Evaluate the model\n",
        "y_pred = model_pipeline.predict(X_test)\n",
        "print(\"\\nClassification Report:\")\n",
        "print(classification_report(y_test, y_pred))\n",
        "\n",
        "# Predict the sentiment of a sample review\n",
        "sample_comment = input(\"Enter a book review comment: \")\n",
        "processed_sample = preprocess_text(sample_comment)\n",
        "predicted_sentiment = model_pipeline.predict([processed_sample])\n",
        "print(f\"\\nThe predicted sentiment for the comment is: {predicted_sentiment[0]}\")\n"
      ],
      "metadata": {
        "colab": {
          "base_uri": "https://localhost:8080/"
        },
        "id": "-3qV0G0lp5kJ",
        "outputId": "6ab84032-ba64-406b-e77d-6c4f185a2cc8"
      },
      "execution_count": 8,
      "outputs": [
        {
          "output_type": "stream",
          "name": "stderr",
          "text": [
            "[nltk_data] Downloading package punkt to /root/nltk_data...\n",
            "[nltk_data]   Package punkt is already up-to-date!\n",
            "[nltk_data] Downloading package stopwords to /root/nltk_data...\n",
            "[nltk_data]   Package stopwords is already up-to-date!\n",
            "[nltk_data] Downloading package wordnet to /root/nltk_data...\n",
            "[nltk_data]   Package wordnet is already up-to-date!\n"
          ]
        },
        {
          "output_type": "stream",
          "name": "stdout",
          "text": [
            "Class distribution before oversampling:\n",
            "Sentiment\n",
            "Positive    15\n",
            "Neutral     13\n",
            "Negative    12\n",
            "Name: count, dtype: int64\n",
            "\n",
            "Class distribution after oversampling:\n",
            "Sentiment\n",
            "Positive    15\n",
            "Negative    15\n",
            "Neutral     15\n",
            "Name: count, dtype: int64\n",
            "\n",
            "Classification Report:\n",
            "              precision    recall  f1-score   support\n",
            "\n",
            "    Negative       0.67      0.50      0.57         4\n",
            "     Neutral       0.67      0.67      0.67         3\n",
            "    Positive       0.33      0.50      0.40         2\n",
            "\n",
            "    accuracy                           0.56         9\n",
            "   macro avg       0.56      0.56      0.55         9\n",
            "weighted avg       0.59      0.56      0.57         9\n",
            "\n",
            "Enter a book review comment: boring\n",
            "\n",
            "The predicted sentiment for the comment is: Negative\n"
          ]
        }
      ]
    },
    {
      "cell_type": "code",
      "source": [],
      "metadata": {
        "id": "3QsGXwrvqABl"
      },
      "execution_count": null,
      "outputs": []
    }
  ]
}